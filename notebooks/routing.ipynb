{
 "cells": [
  {
   "cell_type": "code",
   "execution_count": 15,
   "metadata": {},
   "outputs": [],
   "source": [
    "import requests\n",
    "\n",
    "sN = 53.51416\n",
    "sE = 9.382476\n",
    "#eN = 51.2958522\n",
    "#eE= 9.55021360796585\n",
    "\n",
    "API_ = \"http://192.168.3.157:8990/route?vehicle=car&locale=de&calc_points=false&point=51.2958522,9.55021360796585&p1\"\n",
    "\n",
    "p1 = \"%s,%s\" %(sN,sE)\n",
    "#p2 = \"%s,%s\" %(eN,eE)\n",
    "\n",
    "poi1 = {\"point\": p1}\n",
    "#poi2 = {\"point\": p2}\n",
    "\n",
    "response = requests.get(API_, params = (poi1))\n",
    "\n",
    "data = response.json()\n"
   ]
  },
  {
   "cell_type": "code",
   "execution_count": 30,
   "metadata": {},
   "outputs": [
    {
     "data": {
      "text/plain": [
       "{'hints': {'visited_nodes.average': '621.0', 'visited_nodes.sum': '621'},\n",
       " 'info': {'copyrights': ['GraphHopper', 'OpenStreetMap contributors'],\n",
       "  'took': 10},\n",
       " 'paths': [{'distance': 325110.104,\n",
       "   'weight': 12466.105957,\n",
       "   'time': 12465993,\n",
       "   'transfers': 0,\n",
       "   'snapped_waypoints': 'axaxHgghy@stpLde`@'}]}"
      ]
     },
     "execution_count": 30,
     "metadata": {},
     "output_type": "execute_result"
    }
   ],
   "source": [
    "response.json()\n",
    "#data(2)#[paths]"
   ]
  },
  {
   "cell_type": "code",
   "execution_count": null,
   "metadata": {},
   "outputs": [],
   "source": []
  }
 ],
 "metadata": {
  "kernelspec": {
   "display_name": "Python 3",
   "language": "python",
   "name": "python3"
  },
  "language_info": {
   "codemirror_mode": {
    "name": "ipython",
    "version": 3
   },
   "file_extension": ".py",
   "mimetype": "text/x-python",
   "name": "python",
   "nbconvert_exporter": "python",
   "pygments_lexer": "ipython3",
   "version": "3.7.3"
  }
 },
 "nbformat": 4,
 "nbformat_minor": 2
}
